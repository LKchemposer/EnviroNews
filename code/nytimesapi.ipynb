{
 "cells": [
  {
   "cell_type": "markdown",
   "metadata": {},
   "source": [
    "# New York Times API\n",
    "\n",
    "Compared to NewsAPI, the NYTAPI is considerably more frustrating to use. The query keywords are extremely sensitive and the queried articles need excessive checking that they are indeed on topic. I used the [Article Search API](https://developer.nytimes.com/docs/articlesearch-product/1/overview) to get URLs for topical articles before getting the full-text articles via [newspaper API's](https://newspaper.readthedocs.io/en/latest/) full-text functionality. There are open-source Python packages for using NYTAPI, but they do not work properly. As a result, I made GET requests directly to the NYTAPI using the Lucene syntax for query filtering (instead of using an open-source package). One may need to contact NYT at code@nytimes.com to increase their [daily request limit](https://developer.nytimes.com/faq#a11) (4000 requests/day).\n",
    "\n",
    "The code here consists of:\n",
    "1. Querying metadata (e.g., URLs) of articles, storing them in CSVs\n",
    "2. Cleaning article URLs:\n",
    "    1. Using other metadata (e.g., document types, word count)\n",
    "    2. By assessing the relevance of articles via headlines, keywords, and newsdesk"
   ]
  },
  {
   "cell_type": "markdown",
   "metadata": {},
   "source": [
    "## Querying Metadata"
   ]
  },
  {
   "cell_type": "code",
   "execution_count": 4,
   "metadata": {},
   "outputs": [],
   "source": [
    "import sqlite3\n",
    "import requests\n",
    "import re\n",
    "from sqlalchemy import create_engine\n",
    "from IPython import display\n",
    "\n",
    "import cnfg\n",
    "from pprint import pprint\n",
    "import time\n",
    "import datetime\n",
    "\n",
    "import pandas as pd\n",
    "%pylab inline\n",
    "import seaborn as sns\n",
    "sns.set()"
   ]
  },
  {
   "cell_type": "code",
   "execution_count": 5,
   "metadata": {},
   "outputs": [],
   "source": [
    "# meta (with exception handling for null results)\n",
    "def web_url(article):\n",
    "    try:\n",
    "        return article['web_url']\n",
    "    except: return\n",
    "\n",
    "def document_type(article):\n",
    "    try:\n",
    "        return article['document_type']\n",
    "    except: return\n",
    "\n",
    "def type_of_material(article):\n",
    "    try:\n",
    "        return article['type_of_material']\n",
    "    except: return\n",
    "\n",
    "def news_desk(article):\n",
    "    try:\n",
    "        return article['news_desk']\n",
    "    except: return\n",
    "\n",
    "def headline(article):\n",
    "    try:\n",
    "        return article['headline']['main']\n",
    "    except: return\n",
    "\n",
    "def pub_date(article):\n",
    "    try:\n",
    "        return article['pub_date']\n",
    "    except: return\n",
    "\n",
    "\n",
    "def source(article):\n",
    "    try:\n",
    "        return article['source']\n",
    "    except: return\n",
    "\n",
    "\n",
    "def word_count(article):\n",
    "    try:\n",
    "        return article['word_count']\n",
    "    except: return\n",
    "\n",
    "def word_count(article):\n",
    "    try:\n",
    "        return article['word_count']\n",
    "    except: return\n",
    "    \n",
    "def keywords(article):\n",
    "    keys = []\n",
    "    try:\n",
    "        for i in article['keywords']:\n",
    "            keys.append(i['value'])\n",
    "        return keys\n",
    "    except: return"
   ]
  },
  {
   "cell_type": "code",
   "execution_count": 6,
   "metadata": {},
   "outputs": [],
   "source": [
    "key = cnfg.load('/Users/lkchemposer/.nytimes_config')\n",
    "apikey = '&api-key=' + key['api_key'] # registered per instructions at https://developer.nytimes.com/get-started\n",
    "\n",
    "search = 'https://api.nytimes.com/svc/search/v2/articlesearch.json?'\n",
    "\n",
    "# filters\n",
    "body = 'body:(\"environment\" AND (\"pollution\" OR \"air pollution\" OR \"water pollution\" OR \"ocean pollution\" OR \"land pollution\" OR \"noise pollution\" OR \"waste management\" OR \"water quality\" OR \"air quality\" OR \"global warming\" OR (\"global warming\" AND (\"polar bears\" OR \"ice cap melting\")) OR ((\"solar energy\" OR \"solar power\" OR \"solar panels\") AND \"environment\") OR \"climate change\" OR \"climate march\" OR \"recycling\" OR (\"electric cars\" AND \"pollution\") OR \"wind energy\" OR \"deforestation\" OR (\"al gore\" AND \"pollution\") OR (\"planet earth\" OR \"mother earth\" AND \"nature\" AND \"pollution\") OR \"epa\" OR \"greenhouse effect\" OR \"greenhouse gases\" OR (\"fossil fuels\" AND \"pollution\") OR (\"natural resources\" AND \"pollution\") OR (\"sutainability\" AND \"green\") OR \"alternative energy\" OR \"renewable energy\" OR \"earth day\" OR (\"carbon dioxide\" AND \"pollution\") OR \"carbon footprint\" OR \"water conservation\" OR \"energy conservation\" OR \"conservation\" OR \"electronic waste\" OR \"landfill\" OR \"composting\" OR \"department of energy\" OR \"earth science\") OR \"environmental health\" OR \"environmental engineer\" OR \"environmental justice\" OR \"environmental ethics\" OR \"environmental racism\" OR \"environmental sociology\" OR \"environmental geography\" OR (\"environmental education\" OR \"environmental studies\" OR \"environmental science\" AND (\"pollution\" OR \"nature\")))'\n",
    "fq = 'fq=news_desk.contains:(\"Environment\" \"Energy\") OR subject.contains:(\"Environment\" \"Pollution\" \"Climate\" \"Energy\") OR ' + body \n",
    "end = '&end_date=20111119'\n",
    "sort = '&sort=newest'"
   ]
  },
  {
   "cell_type": "code",
   "execution_count": 9,
   "metadata": {},
   "outputs": [],
   "source": [
    "queries = search + fq + '&page=1' + end + sort + apikey\n",
    "articles = requests.get(queries).json()"
   ]
  },
  {
   "cell_type": "code",
   "execution_count": 10,
   "metadata": {},
   "outputs": [
    {
     "data": {
      "text/plain": [
       "97993"
      ]
     },
     "execution_count": 10,
     "metadata": {},
     "output_type": "execute_result"
    }
   ],
   "source": [
    "# number of total queried articles\n",
    "articles['response']['meta']['hits']"
   ]
  },
  {
   "cell_type": "code",
   "execution_count": 98,
   "metadata": {},
   "outputs": [
    {
     "name": "stdout",
     "output_type": "stream",
     "text": [
      "Politics and Clean Air\n",
      "Panel Hears Defense of Loan to Solyndra\n",
      "Solyndra Has a Cousin in the Poorhouse\n",
      "Highlighting Influence of Asia Behind Artwork\n",
      "Hip Cities That Think About How They Work\n",
      "The Fracturing of Pennsylvania\n",
      "A Phone App for Switching Out Your Light Bulbs\n",
      "A Phone App for Switching Out Your Light Bulbs\n",
      "Energy Secretary to Defend Solyndra Loan to Congress\n",
      "An Assault on the Amazon\n"
     ]
    }
   ],
   "source": [
    "# check headlines for topic relevance\n",
    "for i in articles['response']['docs']:\n",
    "    print(i['headline']['main'])"
   ]
  },
  {
   "cell_type": "markdown",
   "metadata": {},
   "source": [
    "### Relevance of Articles\n",
    "\n",
    "Because there is no limit on the number of results and the articles are sorted in order of newest to oldest, the queried articles on page 200 are not likely to be on topic despite being recent. The NYTAPI has a sort option for relevance, but it did not seem to query good topical results. I resolved this issue by:\n",
    "1. Setting a limit to the number of results: 200 maximum pages (10 article/page), and\n",
    "2. Using the last result's previous date as the new \"end date\" for the next queries\n",
    "\n",
    "By limiting the number of results, I ended up with (mostly) topical articles dating back to the 80s. In retrospect, 200 pages seem too many still."
   ]
  },
  {
   "cell_type": "code",
   "execution_count": null,
   "metadata": {},
   "outputs": [],
   "source": [
    "newsl = []\n",
    "errs = []\n",
    "end = '&end_date=19801105' # arbitrary, used as anchor point in case of error\n",
    "while True:\n",
    "    for i in range(1, 201): # up to 200 pages, arbitrarily\n",
    "        p = '&page={}'.format(i)\n",
    "        queries = search + fq + p + end + sort + apikey\n",
    "        time.sleep(1)\n",
    "        articles = requests.get(queries).json()\n",
    "        try:\n",
    "            n = articles['response']['docs']\n",
    "            for article in n:\n",
    "                wu = web_url(article)\n",
    "                dt = document_type(article)\n",
    "                tm = type_of_material(article)\n",
    "                nd = news_desk(article)\n",
    "                hl = headline(article)\n",
    "                pdt = pub_date(article)\n",
    "                sc = source(article)\n",
    "                wc = word_count(article)\n",
    "                kw = keywords(article)\n",
    "                news = dict(zip(['web_url', 'document_type', 'type_of_material', 'news_desk',\n",
    "                                 'headline', 'pub_date', 'source', 'word_count', 'keywords'],\n",
    "                                [wu, dt, tm, nd, hl, pdt, sc, wc, kw]))\n",
    "                newsl.append(news)\n",
    "\n",
    "                # store results every 20 pages\n",
    "                if i % 20 == 0:\n",
    "                    display.clear_output() # display progress\n",
    "                    print(i, hl, wu)\n",
    "                    newsdf = pd.DataFrame(newsl)\n",
    "                    newsdf.to_csv('nytimes_env.csv', mode='a', index=False, header=None)\n",
    "                    newsdf = pd.DataFrame()\n",
    "                    newsl = [] # reset variable\n",
    "                    time.sleep(3)\n",
    "                    \n",
    "        except Exception as err:\n",
    "            print(i, err) # log errors\n",
    "            continue\n",
    "\n",
    "    nyt = pd.read_csv('nytimes_env.csv', header=None)\n",
    "    nyt.drop_duplicates(inplace=True)\n",
    "    \n",
    "    # previous date of the last article as the new end date\n",
    "    prevdate = (pd.to_datetime(nyt[4][-1:]) - datetime.timedelta(1)).dt.strftime('%Y%m%d').values[0]\n",
    "    end = '&end_date={}'.format(prevdate)"
   ]
  },
  {
   "cell_type": "markdown",
   "metadata": {},
   "source": [
    "## Cleaning URLs\n",
    "\n",
    "### Filtering URLs Using Metadata\n",
    "\n",
    "Because I am only interested in full-text articles to explore topics within environmental news, I need to remove some content types which do not have full-text, are not news articles, or do not reach a minimum (arbitrary) word count (50 words)."
   ]
  },
  {
   "cell_type": "code",
   "execution_count": 427,
   "metadata": {},
   "outputs": [],
   "source": [
    "nyt = pd.read_csv('nytimes_env.csv', names=sorted(['web_url', 'document_type', 'type_of_material', 'news_desk', 'headline', 'pub_date', 'source', 'word_count', 'keywords']))\n",
    "nyt.drop_duplicates('web_url', inplace=True)\n",
    "\n",
    "#drop videos (no text)\n",
    "nyt.drop(nyt[nyt['type_of_material'] == 'Video'].index, inplace=True)\n",
    "\n",
    "#drop paid death notice (not useful)\n",
    "nyt.drop(nyt[nyt['type_of_material'] == 'Paid Death Notice'].index, inplace=True)\n",
    "\n",
    "#drop schedules (not related content)\n",
    "nyt.drop(nyt[nyt['type_of_material'] == 'Schedule'].index, inplace=True)\n",
    "\n",
    "#drop slideshow (not enough text)\n",
    "nyt.drop(nyt[nyt['type_of_material'] == 'Slideshow'].index, inplace=True)\n",
    "\n",
    "#drop op-ed, caption (no text)\n",
    "nyt.drop(nyt[nyt['type_of_material'] == 'Op-Ed; Caption'].index, inplace=True)\n",
    "\n",
    "#drop anything with below 50 words\n",
    "nyt.drop(nyt[nyt['word_count'] < 50].index, inplace=True)"
   ]
  },
  {
   "cell_type": "markdown",
   "metadata": {},
   "source": [
    "### Filtering by Weight of Keywords\n",
    "\n",
    "Using keywords (tags by NYT), we can use their frequency (among all articles) as a proxy for topical relevance (i.e., if many articles are tagged with the same keywords, they likely talk about the same topic, and presumably, about some environment-related topic). We can also arbitrary assign a \"score\" if we know what we look for: common environment-related words (e.g., climate, energy, pollution). Here, I assign a \"relevance score\" to an article by:\n",
    "1. Adding its keyword frequency\n",
    "2. Adding 20000 (super high score) if its headline contains specific keywords\n",
    "3. Adding 20000 if the newsdesk it is assigned to contains specific keywords\n",
    "\n",
    "We can visualize the distribution of the \"relevance score\" and decide the threshold for pruning our results (explained below). Note that this _ad hoc_ method have nothing to do with the texts in the article, but about pre-assigned keywords by the NYT in addition to my personal preference."
   ]
  },
  {
   "cell_type": "code",
   "execution_count": 428,
   "metadata": {},
   "outputs": [],
   "source": [
    "# turn keywords frequency into weights\n",
    "nyt['keywords'] = nyt['keywords'].str.lower().str.strip('[]').str.replace('\\'', '').str.split(', ')\n",
    "\n",
    "keys = nyt['keywords'].apply(pd.Series)\n",
    "key_counts = keys.stack().value_counts()\n",
    "d = dict(key_counts)"
   ]
  },
  {
   "cell_type": "code",
   "execution_count": 459,
   "metadata": {},
   "outputs": [],
   "source": [
    "def assign_relevance(row):\n",
    "    key = 0\n",
    "    hlkey = 0\n",
    "    ndkey = 0\n",
    "    \n",
    "    for keyword in row['keywords']:\n",
    "        if keyword in d:\n",
    "            key += d[keyword]\n",
    "    \n",
    "    try:\n",
    "        hl = row['headline'].lower().replace('[^a-z ]', '').split()\n",
    "        for word in hl:\n",
    "            if word in d:\n",
    "                hlkey += d[keyword]\n",
    "            if word in ['climate', 'energy', 'pollution']:\n",
    "                key += 20000\n",
    "    except:\n",
    "        hlkey = 0\n",
    "    \n",
    "    try:\n",
    "        nd = row['news_desk'].lower().replace('[^a-z ]', '').split()\n",
    "        for word in nd:\n",
    "            if word in ['science', 'environment', 'climate', 'energy']:\n",
    "                ndkey += 20000\n",
    "    except:\n",
    "        nd = 0\n",
    "    \n",
    "    return key + hlkey + ndkey\n",
    "\n",
    "nyt['relevance'] = nyt.apply(assign_relevance, axis=1)"
   ]
  },
  {
   "cell_type": "code",
   "execution_count": 478,
   "metadata": {},
   "outputs": [
    {
     "data": {
      "image/png": "[encoded data removed]",
      "text/plain": [
       "<matplotlib.figure.Figure at 0x1a2f422f28>"
      ]
     },
     "metadata": {},
     "output_type": "display_data"
    }
   ],
   "source": [
    "nyt['relevance'].hist(bins=100);\n",
    "plt.xlim(0, 30000);"
   ]
  },
  {
   "cell_type": "markdown",
   "metadata": {},
   "source": [
    "Because I chose a super score of 20000, articles in the range of 0-20000 are ones that did not meet both requirements of the headlines and news desk. Around 5000, there seems to be a good separation point. Also, as I wanted to include the articles in the peak with the score of ~7000, I decided to drop articles below the score of 5000."
   ]
  },
  {
   "cell_type": "code",
   "execution_count": 479,
   "metadata": {},
   "outputs": [],
   "source": [
    "nyt.drop(nyt[(nyt['relevance'] < 5000)].index, inplace=True)"
   ]
  }
 ],
 "metadata": {
  "kernelspec": {
   "display_name": "Python 3",
   "language": "python",
   "name": "python3"
  },
  "language_info": {
   "codemirror_mode": {
    "name": "ipython",
    "version": 3
   },
   "file_extension": ".py",
   "mimetype": "text/x-python",
   "name": "python",
   "nbconvert_exporter": "python",
   "pygments_lexer": "ipython3",
   "version": "3.6.4"
  }
 },
 "nbformat": 4,
 "nbformat_minor": 2
}
