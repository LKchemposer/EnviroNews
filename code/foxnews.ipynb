{
 "cells": [
  {
   "cell_type": "markdown",
   "metadata": {},
   "source": [
    "# Fox News\n",
    "\n",
    "Because Fox News does not provide an API or any news archives (at least inaccessible to regular users), Selenium is an excellent tool to scrape its web contents. My objective is only to get URLs of related articles so that I can use the newspaper API to extract and store the full text afterwards. Using Selenium requires installing a chromedriver. The code here consists of:\n",
    "1. Scraping metadata (i.e., headlines, URLs, categories) by looping through various \"categories\" (e.g., environment, carbon emissions, water pollution)\n",
    "2. Visualizing distribution of topical relevance via an arbitrarily determined \"score\""
   ]
  },
  {
   "cell_type": "markdown",
   "metadata": {},
   "source": [
    "## Scraping Metadata"
   ]
  },
  {
   "cell_type": "code",
   "execution_count": 3,
   "metadata": {},
   "outputs": [],
   "source": [
    "import sqlite3\n",
    "import requests\n",
    "import re\n",
    "import newspaper\n",
    "from newspaper import Article, Source\n",
    "from sqlalchemy import create_engine\n",
    "from IPython import display\n",
    "from selenium import webdriver\n",
    "from selenium.webdriver.common.keys import Keys\n",
    "import os\n",
    "chromedriver = '/Applications/chromedriver'\n",
    "os.environ['webdriver.chrome.driver'] = chromedriver\n",
    "\n",
    "import cnfg\n",
    "from pprint import pprint\n",
    "import time\n",
    "import datetime\n",
    "\n",
    "import pandas as pd\n",
    "%pylab inline\n",
    "import seaborn as sns\n",
    "sns.set()"
   ]
  },
  {
   "cell_type": "markdown",
   "metadata": {},
   "source": [
    "As a [cateogory page on Fox News](https://www.foxnews.com/category/world/environment) only displays a few headlines with hyperlinks at a time, one must click \"Show More\" to get more (older) articles. However, clicking \"Show More\" refreshes the page (chromedriver's perspective), so I used a variable `prev_n_article` to track the total number of articles after each click to avoid getting metadata from the same articles over and over again."
   ]
  },
  {
   "cell_type": "code",
   "execution_count": null,
   "metadata": {},
   "outputs": [],
   "source": [
    "# open driver\n",
    "driver = webdriver.Chrome(chromedriver)\n",
    "\n",
    "# paste new category webpages\n",
    "driver.get('http://www.foxnews.com/category/us/environment/carbon-emissions.html')\n",
    "\n",
    "# global params\n",
    "count = 0\n",
    "prev_n_article = 1\n",
    "urls = []\n",
    "\n",
    "while count < 12000:\n",
    "    \n",
    "    # click on SHOW MORE\n",
    "    ipt = driver.find_element_by_xpath('//*[@id=\"wrapper\"]/div/div[2]/div/main/div/footer/div/a')\n",
    "    ipt.send_keys(Keys.RETURN)\n",
    "\n",
    "    # number of articles on screen + 1 (i.e., for 10 articles, loop from article 1 to 10)\n",
    "    n_articles = len(driver.find_elements_by_xpath('//*[@id=\"wrapper\"]/div/div[2]/div/main/div/div/article')) + 1\n",
    "\n",
    "    for i in range(prev_n_article, n_articles):\n",
    "        try:\n",
    "            article_xpath = '//*[@id=\"wrapper\"]/div/div[2]/div/main/div/div/article[{}]/div[2]/header'.format(i)\n",
    "            category_xpath = article_xpath + '/div/span[1]/a'\n",
    "            category = driver.find_element_by_xpath(category_xpath).text\n",
    "            url_xpath = article_xpath + '/h2/a'\n",
    "            url = driver.find_element_by_xpath(url_xpath).get_attribute('href')\n",
    "            hl = driver.find_element_by_xpath(url_xpath).text\n",
    "            urls.append(dict(zip(['headline', 'url', 'category'], [hl, url, category])))\n",
    "            count += 1\n",
    "\n",
    "            # print for debugging\n",
    "            if count % 50 == 0:\n",
    "                display.clear_output()\n",
    "                print(hl, url)\n",
    "\n",
    "            # save to csv, reset dataframe\n",
    "            if count % 100 == 0:\n",
    "                pd.DataFrame(urls).to_csv('foxnews_env.csv', index=False, header=None, mode='a')\n",
    "                urls = []\n",
    "\n",
    "            # reassign number of articles to update loop (filter duplicates)\n",
    "            prev_n_article = n_articles\n",
    "        \n",
    "        except:\n",
    "            continue"
   ]
  },
  {
   "cell_type": "code",
   "execution_count": 227,
   "metadata": {},
   "outputs": [],
   "source": [
    "pd.DataFrame(urls).to_csv('foxnews_env.csv', index=False, header=None, mode='a')\n",
    "urls = []"
   ]
  },
  {
   "cell_type": "markdown",
   "metadata": {},
   "source": [
    "## Checking for Relevance\n",
    "\n",
    "Using keywords from headlines and categories, we can somewhat estimate the relevance of these articles. Here, I broke down headlines and category names into words and counted the word frequencies. I assigned a \"score\" to an article by summing these word frequencies together. My assumption is that, due to these articles being previously categorized, articles whose headlines contain the same words likely talk about the same environment-related topic. In addition, if the headline has a \"critical\" word (e.g., EPA) or if its category is topical (e.g., climate, emissions), I arbitrarily add a bonus 2000 to the relevance score."
   ]
  },
  {
   "cell_type": "code",
   "execution_count": 1,
   "metadata": {},
   "outputs": [],
   "source": [
    "from sklearn.feature_extraction.text import CountVectorizer\n",
    "from collections import Counter"
   ]
  },
  {
   "cell_type": "code",
   "execution_count": 3,
   "metadata": {},
   "outputs": [],
   "source": [
    "fox = pd.read_csv('fox_cleaned.csv')"
   ]
  },
  {
   "cell_type": "code",
   "execution_count": 85,
   "metadata": {},
   "outputs": [],
   "source": [
    "# fast tokenization of headlines and category names using count vectorizer\n",
    "head = CountVectorizer()\n",
    "heads = head.fit_transform(fox['headline'])\n",
    "heads_d = dict(pd.DataFrame(heads.toarray(), columns=sorted(head.vocabulary_.keys())).sum())\n",
    "\n",
    "cat = CountVectorizer()\n",
    "cats = cat.fit_transform(fox['category'])\n",
    "cats_d = dict(pd.DataFrame(cats.toarray(), columns=sorted(cat.vocabulary_.keys())).sum())\n",
    "\n",
    "d = Counter(cats_d) + Counter(heads_d)"
   ]
  },
  {
   "cell_type": "code",
   "execution_count": 109,
   "metadata": {},
   "outputs": [],
   "source": [
    "def relevance(row):\n",
    "    rel = 0\n",
    "    hl = row['headline'].lower().replace('[^a-z ]', '').split()\n",
    "    for i in hl:\n",
    "        if i in d:\n",
    "            rel += d[i]\n",
    "        if i in ['epa']:\n",
    "            rel += 2000\n",
    "    cat = row['category'].lower().split()\n",
    "    for j in cat:\n",
    "        rel += d[j]\n",
    "        if j in ['climate', 'emissions', 'water']:\n",
    "            rel += 2000\n",
    "    return rel\n",
    "\n",
    "fox['relevance'] = fox.apply(relevance, axis=1)"
   ]
  },
  {
   "cell_type": "code",
   "execution_count": 110,
   "metadata": {},
   "outputs": [
    {
     "data": {
      "image/png": "[encoded data removed]",
      "text/plain": [
       "<matplotlib.figure.Figure at 0x1a204a1978>"
      ]
     },
     "metadata": {},
     "output_type": "display_data"
    }
   ],
   "source": [
    "fox['relevance'].hist(bins=100);"
   ]
  },
  {
   "cell_type": "markdown",
   "metadata": {},
   "source": [
    "There seems to be some separation between articles with a \"relevance score\" below and those above 2000, as expected (i.e., articles with a score slightly above 2000 contain the keyword or belongs to a category of interest). However,  due to the limited number of articles scraped from Fox News (\"Show More\" does not necessarily grab all articles in the last decade), I decided not to drop any Fox News articles, and included all of them in the corpus for NLP analysis. Topic modeling results should not be affected drastically, as the low-score articles only account for less than 10% of the entire corpus."
   ]
  },
  {
   "cell_type": "code",
   "execution_count": null,
   "metadata": {},
   "outputs": [],
   "source": []
  }
 ],
 "metadata": {
  "kernelspec": {
   "display_name": "Python 3",
   "language": "python",
   "name": "python3"
  },
  "language_info": {
   "codemirror_mode": {
    "name": "ipython",
    "version": 3
   },
   "file_extension": ".py",
   "mimetype": "text/x-python",
   "name": "python",
   "nbconvert_exporter": "python",
   "pygments_lexer": "ipython3",
   "version": "3.6.4"
  }
 },
 "nbformat": 4,
 "nbformat_minor": 2
}
